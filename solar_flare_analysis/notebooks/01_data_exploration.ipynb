{
 "cells": [
  {
   "cell_type": "markdown",
   "id": "c135d0f6",
   "metadata": {},
   "source": [
    "# Solar Flare Analysis: Data Exploration\n",
    "\n",
    "This notebook demonstrates how to load, visualize, and preprocess GOES XRS solar flare data.\n",
    "\n",
    "## Setup and Imports"
   ]
  },
  {
   "cell_type": "code",
   "execution_count": null,
   "id": "b18ed019",
   "metadata": {},
   "outputs": [
    {
     "ename": "SyntaxError",
     "evalue": "source code string cannot contain null bytes (<string>)",
     "output_type": "error",
     "traceback": [
      "Traceback \u001b[36m(most recent call last)\u001b[39m:\n",
      "  File \u001b[92mc:\\Users\\srabani\\Desktop\\goesflareenv\\Lib\\site-packages\\IPython\\core\\interactiveshell.py:3670\u001b[39m in \u001b[95mrun_code\u001b[39m\n    exec(code_obj, self.user_global_ns, self.user_ns)\n",
      "\u001b[36m  \u001b[39m\u001b[36mCell\u001b[39m\u001b[36m \u001b[39m\u001b[32mIn[1]\u001b[39m\u001b[32m, line 16\u001b[39m\n\u001b[31m    \u001b[39m\u001b[31mfrom src.data_processing.data_loader import load_goes_data, preprocess_xrs_data, remove_background\u001b[39m\n",
      "  \u001b[36mFile \u001b[39m\u001b[32m<string>\u001b[39m\n\u001b[31mSyntaxError\u001b[39m\u001b[31m:\u001b[39m source code string cannot contain null bytes\n"
     ]
    }
   ],
   "source": [
    "import os\n",
    "import sys\n",
    "import numpy as np\n",
    "import pandas as pd\n",
    "import xarray as xr\n",
    "import matplotlib.pyplot as plt\n",
    "from datetime import datetime, timedelta\n",
    "\n",
    "# Add the project root to the path\n",
    "project_root = os.path.abspath('..')\n",
    "if project_root not in sys.path:\n",
    "    sys.path.append(project_root)\n",
    "\n",
    "# Import project modules\n",
    "from src.data_processing.data_loader import load_goes_data, preprocess_xrs_data, remove_background\n",
    "from src.visualization.plotting import plot_xrs_time_series"
   ]
  },
  {
   "cell_type": "markdown",
   "id": "37965c89",
   "metadata": {},
   "source": [
    "## Loading GOES XRS Data\n",
    "\n",
    "GOES XRS data is typically provided in NetCDF (.nc) format. Here we'll load a sample file.\n",
    "\n",
    "### How to obtain GOES XRS data\n",
    "\n",
    "You can download GOES XRS data from the NOAA NCEI repository:\n",
    "- Visit: https://www.ncei.noaa.gov/data/goes-space-environment-monitor/access/\n",
    "- Navigate to the directory for your desired GOES satellite (e.g., GOES-16)\n",
    "- Find the XRS data files (e.g., avg1m, avg5m)\n",
    "\n",
    "For this tutorial, we'll use a sample data file from the repository."
   ]
  },
  {
   "cell_type": "code",
   "execution_count": null,
   "id": "d7af83e4",
   "metadata": {},
   "outputs": [],
   "source": [
    "# Locate a sample GOES XRS data file\n",
    "data_dir = settings.DATA_DIR\n",
    "sample_files = [f for f in os.listdir(data_dir) if f.endswith('.nc')]\n",
    "\n",
    "if not sample_files:\n",
    "    print(\"No .nc files found. Please download GOES XRS data.\")\n",
    "    print(\"You can download GOES XRS data from: https://www.ncei.noaa.gov/data/goes-space-environment-monitor/access/\")\n",
    "else:\n",
    "    print(f\"Found {len(sample_files)} .nc files:\")\n",
    "    for i, file in enumerate(sample_files):\n",
    "        print(f\"  {i+1}. {file}\")\n",
    "    \n",
    "    # Use the first file for demonstration\n",
    "    data_file = os.path.join(data_dir, sample_files[0])\n",
    "    print(f\"\\nUsing {data_file} for demonstration\")"
   ]
  },
  {
   "cell_type": "code",
   "execution_count": null,
   "id": "de59233c",
   "metadata": {},
   "outputs": [],
   "source": [
    "# Load the sample data file\n",
    "data = load_goes_data(data_file)\n",
    "\n",
    "# If no sample file was found, show how to download\n",
    "if data is None:\n",
    "    print(\"\\nTo download GOES XRS data using Python, you can use the following code:\")\n",
    "    print(\"\"\"\n",
    "    import requests\n",
    "    import os\n",
    "    \n",
    "    # Example URL for GOES-16 XRS 1-minute average data for June 1, 2022\n",
    "    url = 'https://www.ncei.noaa.gov/data/goes-space-environment-monitor/access/avg1m/2022/06/goes16/csv/g16_xrs_avg1m_20220601_20220601.nc'\n",
    "    \n",
    "    # Download the file\n",
    "    response = requests.get(url)\n",
    "    if response.status_code == 200:\n",
    "        os.makedirs(os.path.join('..', 'data'), exist_ok=True)\n",
    "        with open(os.path.join('..', 'data', 'goes16_xrs_sample.nc'), 'wb') as f:\n",
    "            f.write(response.content)\n",
    "        print('Downloaded the file successfully')\n",
    "    else:\n",
    "        print(f'Failed to download: {response.status_code}')\n",
    "    \"\"\")"
   ]
  },
  {
   "cell_type": "markdown",
   "id": "6e61012d",
   "metadata": {},
   "source": [
    "## Exploring the Data Structure\n",
    "\n",
    "Let's examine the structure of the GOES XRS data:"
   ]
  },
  {
   "cell_type": "code",
   "execution_count": null,
   "id": "54496629",
   "metadata": {},
   "outputs": [],
   "source": [
    "if data is not None:\n",
    "    # Print dataset information\n",
    "    print(\"Dataset information:\")\n",
    "    print(data.info())\n",
    "    \n",
    "    print(\"\\nDataset dimensions:\")\n",
    "    for dim, size in data.dims.items():\n",
    "        print(f\"  {dim}: {size}\")\n",
    "    \n",
    "    print(\"\\nVariables:\")\n",
    "    for var in data.data_vars:\n",
    "        print(f\"  {var}: {data[var].shape} - {data[var].attrs.get('long_name', '')}\")"
   ]
  },
  {
   "cell_type": "markdown",
   "id": "ba6b3bc4",
   "metadata": {},
   "source": [
    "## Preprocessing the Data\n",
    "\n",
    "Now, let's preprocess the XRS data for both A and B channels:"
   ]
  },
  {
   "cell_type": "code",
   "execution_count": null,
   "id": "80f1f30b",
   "metadata": {},
   "outputs": [],
   "source": [
    "if data is not None:\n",
    "    # Process channel A (0.05-0.4 nm) data\n",
    "    df_a = preprocess_xrs_data(data, channel='A', remove_bad_data=True, interpolate_gaps=True)\n",
    "    \n",
    "    # Process channel B (0.1-0.8 nm) data\n",
    "    df_b = preprocess_xrs_data(data, channel='B', remove_bad_data=True, interpolate_gaps=True)\n",
    "    \n",
    "    # Display sample of preprocessed data\n",
    "    print(\"Sample of preprocessed channel A data:\")\n",
    "    display(df_a.head())\n",
    "    \n",
    "    print(\"\\nSample of preprocessed channel B data:\")\n",
    "    display(df_b.head())"
   ]
  },
  {
   "cell_type": "markdown",
   "id": "77d80b94",
   "metadata": {},
   "source": [
    "## Visualizing the Data\n",
    "\n",
    "Let's visualize both A and B channels of the XRS data:"
   ]
  },
  {
   "cell_type": "code",
   "execution_count": null,
   "id": "1363878f",
   "metadata": {},
   "outputs": [],
   "source": [
    "if data is not None and 'df_a' in locals() and 'df_b' in locals():\n",
    "    # Plotting XRS-A data\n",
    "    fig_a = plot_xrs_time_series(df_a, 'xrsa', title='GOES XRS A (0.05-0.4 nm) Data', log_scale=True)\n",
    "    plt.tight_layout()\n",
    "    plt.show()\n",
    "    \n",
    "    # Plotting XRS-B data\n",
    "    fig_b = plot_xrs_time_series(df_b, 'xrsb', title='GOES XRS B (0.1-0.8 nm) Data', log_scale=True)\n",
    "    plt.tight_layout()\n",
    "    plt.show()"
   ]
  },
  {
   "cell_type": "markdown",
   "id": "5e58b739",
   "metadata": {},
   "source": [
    "## Removing Background Flux\n",
    "\n",
    "Solar flare analysis requires removing the background solar flux to isolate flare events:"
   ]
  },
  {
   "cell_type": "code",
   "execution_count": null,
   "id": "e2cd66ef",
   "metadata": {},
   "outputs": [],
   "source": [
    "if data is not None and 'df_b' in locals():\n",
    "    # Remove background flux from B channel data\n",
    "    df_b_no_bg = remove_background(\n",
    "        df_b, \n",
    "        window_size=settings.BACKGROUND_PARAMS['window_size'],\n",
    "        quantile=settings.BACKGROUND_PARAMS['quantile']\n",
    "    )\n",
    "    \n",
    "    # Plot original data, background, and background-subtracted data\n",
    "    plt.figure(figsize=(12, 8))\n",
    "    \n",
    "    plt.semilogy(df_b.index, df_b['xrsb'], 'b-', label='Original XRS-B Flux')\n",
    "    plt.semilogy(df_b_no_bg.index, df_b_no_bg['xrsb_background'], 'g-', label='Background')\n",
    "    plt.semilogy(df_b_no_bg.index, df_b_no_bg['xrsb_no_background'], 'r-', label='Background-subtracted')\n",
    "    \n",
    "    plt.grid(True, which='both', linestyle='--', alpha=0.5)\n",
    "    plt.ylabel('Flux (W/m²)')\n",
    "    plt.title('GOES XRS-B Background Removal')\n",
    "    plt.legend()\n",
    "    plt.tight_layout()\n",
    "    plt.show()"
   ]
  },
  {
   "cell_type": "markdown",
   "id": "8102fb8a",
   "metadata": {},
   "source": [
    "## Summary\n",
    "\n",
    "In this notebook, we've demonstrated:\n",
    "\n",
    "1. How to load GOES XRS data from NetCDF files\n",
    "2. How to preprocess the data, including handling bad data points and interpolating gaps\n",
    "3. How to visualize the data for both XRS-A and XRS-B channels\n",
    "4. How to remove the background solar flux to isolate flare events\n",
    "\n",
    "In the next notebook, we'll explore traditional flare detection techniques."
   ]
  }
 ],
 "metadata": {
  "kernelspec": {
   "display_name": "goesflareenv",
   "language": "python",
   "name": "python3"
  },
  "language_info": {
   "codemirror_mode": {
    "name": "ipython",
    "version": 3
   },
   "file_extension": ".py",
   "mimetype": "text/x-python",
   "name": "python",
   "nbconvert_exporter": "python",
   "pygments_lexer": "ipython3",
   "version": "3.12.10"
  }
 },
 "nbformat": 4,
 "nbformat_minor": 5
}
